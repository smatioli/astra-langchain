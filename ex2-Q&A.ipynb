{
 "cells": [
  {
   "cell_type": "markdown",
   "id": "b3a114df-7fd3-49fc-99d0-febeba0a3fe5",
   "metadata": {},
   "source": [
    "# Carregando documentos e ampliando o contexto para resposta\n"
   ]
  },
  {
   "cell_type": "code",
   "execution_count": 1,
   "id": "59672975-6e5b-432b-ae2f-27ac6ce970bd",
   "metadata": {},
   "outputs": [
    {
     "data": {
      "text/plain": [
       "True"
      ]
     },
     "execution_count": 1,
     "metadata": {},
     "output_type": "execute_result"
    }
   ],
   "source": [
    "# Carregando variáveis de ambiente\n",
    "from dotenv import load_dotenv, find_dotenv\n",
    "import os\n",
    "load_dotenv(find_dotenv(), override=True)"
   ]
  },
  {
   "cell_type": "code",
   "execution_count": 2,
   "id": "0c95ebf2-ce22-42f0-96a8-d1fb1f6da068",
   "metadata": {},
   "outputs": [],
   "source": [
    "# Inicializando a sessão com o Astra/Cassandra\n",
    "# A criação da sessão é realizada pelos arquivos cqlsession.py e connect_database.py\n",
    "from cqlsession import getCQLSession, getCQLKeyspace\n",
    "cqlMode = 'astra_db' # 'astra_db'/'local'\n",
    "session = getCQLSession(mode=cqlMode)\n",
    "keyspace = getCQLKeyspace(mode=cqlMode)"
   ]
  },
  {
   "cell_type": "code",
   "execution_count": 3,
   "id": "10fbf3b8-0211-4ab4-a694-848b9cb3853b",
   "metadata": {},
   "outputs": [],
   "source": [
    "# Neste exemplo, vou utilizar os embeddings da OpenAI.\n",
    "# Aqui, importamos o LLM e os Embeddings\n",
    "from langchain.llms import OpenAI\n",
    "from langchain.embeddings import OpenAIEmbeddings\n",
    "llm = OpenAI(temperature=0)\n",
    "myEmbedding = OpenAIEmbeddings()"
   ]
  },
  {
   "cell_type": "code",
   "execution_count": 4,
   "id": "f0f3e774-ec03-4e2e-8cb3-ab09a3fdbdac",
   "metadata": {},
   "outputs": [],
   "source": [
    "# Importando o vector store Cassandra (vamos usar o Astra, mas é o Cassandra)\n",
    "from langchain.vectorstores.cassandra import Cassandra"
   ]
  },
  {
   "cell_type": "code",
   "execution_count": 5,
   "id": "b1e2ff42-225f-4322-8aba-36e709c8414c",
   "metadata": {},
   "outputs": [],
   "source": [
    "# Importando o índice, separadores de texto, e auxiliares para processamendo dos documentos\n",
    "from langchain.indexes import VectorstoreIndexCreator\n",
    "from langchain.text_splitter import (\n",
    "    CharacterTextSplitter,\n",
    "    RecursiveCharacterTextSplitter,\n",
    ")\n",
    "from langchain.docstore.document import Document\n",
    "from langchain.document_loaders import TextLoader, PyPDFLoader"
   ]
  },
  {
   "cell_type": "code",
   "execution_count": 42,
   "id": "e1b862d1-0766-493b-ab1a-ad3a9f4782b3",
   "metadata": {},
   "outputs": [],
   "source": [
    "# Criando o índice\n",
    "table_name = 'vs_astra_openai'\n",
    "keyspace = 'demo'\n",
    "\n",
    "index_creator = VectorstoreIndexCreator(\n",
    "    vectorstore_cls=Cassandra,\n",
    "    embedding=myEmbedding,\n",
    "    text_splitter=RecursiveCharacterTextSplitter(\n",
    "        chunk_size=400,\n",
    "        chunk_overlap=30,\n",
    "    ),\n",
    "    vectorstore_kwargs={\n",
    "        'session': session,\n",
    "        'keyspace': keyspace,\n",
    "        'table_name': table_name,\n",
    "    },\n",
    ")"
   ]
  },
  {
   "cell_type": "code",
   "execution_count": 43,
   "id": "a93279f4-683d-4d35-bd1f-bb059d177a37",
   "metadata": {},
   "outputs": [],
   "source": [
    "# Vamos usar o texto o conto \"O Alienista\", de Machado de Assis.\n",
    "# PDF disponível em http://www.dominiopublico.gov.br/download/texto/bv000231.pdf\n",
    "loader = TextLoader('./o_alienista.txt', encoding='utf8')"
   ]
  },
  {
   "cell_type": "code",
   "execution_count": 44,
   "id": "24fc1b24-c8b1-4120-a408-90f4ce90cd5b",
   "metadata": {},
   "outputs": [],
   "source": [
    "# Carregando o documento para o Astra\n",
    "index = index_creator.from_loaders([loader])"
   ]
  },
  {
   "cell_type": "code",
   "execution_count": 45,
   "id": "32b037da-04dc-4402-a027-2fa0f080d918",
   "metadata": {},
   "outputs": [
    {
     "name": "stdout",
     "output_type": "stream",
     "text": [
      "\n",
      "Row 0:\n",
      "    document_id:      722a59223c904be29a340eed04b961ed\n",
      "    embedding_vector: [0.0021424368023872375, -0.002469730330631137, 0.016110857948660 ...\n",
      "    document:         O alienista atendeu então; os gritos aproximavam-se, terríveis,  ...\n",
      "    metadata_blob:    {\"source\": \"./o_alienista.txt\"}\n",
      "\n",
      "Row 1:\n",
      "    document_id:      f2b10762b0d944e6a2f21505afe60394\n",
      "    embedding_vector: [0.016153687611222267, 0.009189954958856106, 0.00985510647296905 ...\n",
      "    document:         porque Napoleão não provou a Casa Verde, o barbeiro achou prefer ...\n",
      "    metadata_blob:    {\"source\": \"./o_alienista.txt\"}\n",
      "\n",
      "Row 2:\n",
      "    document_id:      63564952c9514d92af4284794a881b3f\n",
      "    embedding_vector: [-0.0026760578621178865, 0.022114384919404984, 0.018191084265708 ...\n",
      "    document:         inexplorada. Simão Bacamarte compreendeu que a ciência lusitana, ...\n",
      "    metadata_blob:    {\"source\": \"./o_alienista.txt\"}\n",
      "\n",
      "...\n"
     ]
    }
   ],
   "source": [
    "cqlSelect = f'SELECT * FROM {keyspace}.{table_name} LIMIT 3;'  # (Not a production-optimized query ...)\n",
    "rows = session.execute(cqlSelect)\n",
    "for row_i, row in enumerate(rows):\n",
    "    print(f'\\nRow {row_i}:')\n",
    "    print(f'    document_id:      {row.document_id}')\n",
    "    print(f'    embedding_vector: {str(row.embedding_vector)[:64]} ...')\n",
    "    print(f'    document:         {row.document[:64]} ...')\n",
    "    print(f'    metadata_blob:    {row.metadata_blob}')\n",
    "\n",
    "print('\\n...')"
   ]
  },
  {
   "cell_type": "code",
   "execution_count": 53,
   "id": "bb9f8964-1ec8-455a-b241-39ba6e5237b0",
   "metadata": {},
   "outputs": [
    {
     "name": "stderr",
     "output_type": "stream",
     "text": [
      "Retrying langchain.embeddings.openai.embed_with_retry.<locals>._embed_with_retry in 4.0 seconds as it raised Timeout: Request timed out: HTTPSConnectionPool(host='api.openai.com', port=443): Read timed out. (read timeout=600).\n"
     ]
    },
    {
     "data": {
      "text/plain": [
       "{'question': 'Quem foi Simão Bacamarti?',\n",
       " 'answer': ' Simão Bacamarte foi um médico brasileiro, filho da nobreza da terra, que estudou em Coimbra e Pádua. Ele foi considerado o maior dos médicos do Brasil, de Portugal e das Espanhas.\\nSource: ./o_alienista.txt',\n",
       " 'sources': ''}"
      ]
     },
     "execution_count": 53,
     "metadata": {},
     "output_type": "execute_result"
    }
   ],
   "source": [
    "query = \"Quem foi Simão Bacamarti?\"\n",
    "index.query_with_sources(query, llm=llm)"
   ]
  },
  {
   "cell_type": "code",
   "execution_count": null,
   "id": "525920cf-3b0e-4090-a7eb-d1c598bbf1dc",
   "metadata": {},
   "outputs": [],
   "source": []
  }
 ],
 "metadata": {
  "kernelspec": {
   "display_name": "Python 3 (ipykernel)",
   "language": "python",
   "name": "python3"
  },
  "language_info": {
   "codemirror_mode": {
    "name": "ipython",
    "version": 3
   },
   "file_extension": ".py",
   "mimetype": "text/x-python",
   "name": "python",
   "nbconvert_exporter": "python",
   "pygments_lexer": "ipython3",
   "version": "3.9.4"
  }
 },
 "nbformat": 4,
 "nbformat_minor": 5
}
