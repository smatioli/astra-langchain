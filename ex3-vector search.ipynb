{
 "cells": [
  {
   "cell_type": "markdown",
   "id": "b3a114df-7fd3-49fc-99d0-febeba0a3fe5",
   "metadata": {},
   "source": [
    "# Carregando documentos e ampliando o contexto para resposta\n"
   ]
  },
  {
   "cell_type": "code",
   "execution_count": 1,
   "id": "59672975-6e5b-432b-ae2f-27ac6ce970bd",
   "metadata": {},
   "outputs": [
    {
     "data": {
      "text/plain": [
       "True"
      ]
     },
     "execution_count": 1,
     "metadata": {},
     "output_type": "execute_result"
    }
   ],
   "source": [
    "# Carregando variáveis de ambiente\n",
    "from dotenv import load_dotenv, find_dotenv\n",
    "import os\n",
    "load_dotenv(find_dotenv(), override=True)"
   ]
  },
  {
   "cell_type": "code",
   "execution_count": 3,
   "id": "0c95ebf2-ce22-42f0-96a8-d1fb1f6da068",
   "metadata": {},
   "outputs": [],
   "source": [
    "# Inicializando a sessão com o Astra/Cassandra\n",
    "# A criação da sessão é realizada pelos arquivos cqlsession.py e connect_database.py\n",
    "from cqlsession import getCQLSession, getCQLKeyspace\n",
    "cqlMode = 'astra_db' # 'astra_db'/'local'\n",
    "session = getCQLSession(mode=cqlMode)\n",
    "keyspace = getCQLKeyspace(mode=cqlMode)"
   ]
  },
  {
   "cell_type": "code",
   "execution_count": 4,
   "id": "10fbf3b8-0211-4ab4-a694-848b9cb3853b",
   "metadata": {},
   "outputs": [],
   "source": [
    "# Neste exemplo, vou utilizar os embeddings da OpenAI.\n",
    "# Aqui, importamos o LLM e os Embeddings\n",
    "from langchain.llms import OpenAI\n",
    "from langchain.embeddings import OpenAIEmbeddings\n",
    "llm = OpenAI(temperature=0)\n",
    "embedding_func = OpenAIEmbeddings()"
   ]
  },
  {
   "cell_type": "code",
   "execution_count": 5,
   "id": "f0f3e774-ec03-4e2e-8cb3-ab09a3fdbdac",
   "metadata": {},
   "outputs": [],
   "source": [
    "# Importando o vector store Cassandra (vamos usar o Astra, mas é o Cassandra)\n",
    "from langchain.vectorstores.cassandra import Cassandra"
   ]
  },
  {
   "cell_type": "code",
   "execution_count": 8,
   "id": "b1e2ff42-225f-4322-8aba-36e709c8414c",
   "metadata": {},
   "outputs": [],
   "source": [
    "# Importando o índice, separadores de texto, e auxiliares para processamendo dos documentos\n",
    "from langchain.indexes import VectorstoreIndexCreator\n",
    "from langchain.text_splitter import (\n",
    "    CharacterTextSplitter,\n",
    "    RecursiveCharacterTextSplitter,\n",
    ")\n",
    "from langchain.docstore.document import Document\n",
    "from langchain.document_loaders import TextLoader"
   ]
  },
  {
   "cell_type": "code",
   "execution_count": 11,
   "id": "aeee27a1-15e3-421b-842e-923e56516d8d",
   "metadata": {},
   "outputs": [],
   "source": [
    "loader = TextLoader('./o_alienista.txt')\n",
    "documents = loader.load()\n",
    "text_splitter = RecursiveCharacterTextSplitter(chunk_size=400, chunk_overlap=40)\n",
    "docs = text_splitter.split_documents(documents)"
   ]
  },
  {
   "cell_type": "code",
   "execution_count": 13,
   "id": "1654e048-c2d2-4a85-9350-8cb17f92b93f",
   "metadata": {},
   "outputs": [],
   "source": [
    "# Criando a tabela para armezenar os vetores\n",
    "\n",
    "table_name = 'astra_vector_ex3_openai'\n",
    "keyspace_name = 'demo'\n",
    "\n",
    "docsearch = Cassandra.from_documents(\n",
    "    documents=docs,\n",
    "    embedding=embedding_func,\n",
    "    session=session,\n",
    "    keyspace=keyspace_name,\n",
    "    table_name=table_name,\n",
    ")"
   ]
  },
  {
   "cell_type": "code",
   "execution_count": 21,
   "id": "1c815a6e-0750-4940-8353-7bf06318495f",
   "metadata": {},
   "outputs": [],
   "source": [
    "# Definindo a busca e  procurando os itens similares\n",
    "query = \"Quem foi Simão Bacamarti?\"\n",
    "docs = docsearch.similarity_search(query)"
   ]
  },
  {
   "cell_type": "code",
   "execution_count": 23,
   "id": "4d09e135-5b11-47e2-958b-de5e6e4e4891",
   "metadata": {},
   "outputs": [
    {
     "name": "stdout",
     "output_type": "stream",
     "text": [
      "\n",
      "## Document 0\n",
      "\n",
      "Mas nada escapa a um espírito original e penetrante. Simão Bacamarte, que desde algum tempo notava o zelo, a sagacidade, a paciência, a moderação daquele agente, reconheceu a habilidade e o tino com que ele levara a cabo uma experiência tão melindrosa e complicada, e determinou recolhê-lo imediatamente à Casa Verde; deu-lhe todavia um dos melhores cubículos.\n",
      "\n",
      "## Document 1\n",
      "\n",
      "Era decisivo. Simão Bacamarte curvou a cabeça juntamente alegre e triste, e ainda mais alegre do que triste. Ato continuo, recolheu-se à Casa Verde. Em vão a mulher e os amigos lhe disseram que ficasse, que estava perfeitamente são e equilibrado: nem rogos nem sugestões nem lágrimas o detiveram um só instante.\n",
      "\n",
      "## Document 2\n",
      "\n",
      "Não eram gritos na rua, eram suspiros em casa, mas não tardava a hora dos gritos. O terror crescia; avizinhava-se a rebelião. A idéia de uma petição ao governo, para que Simão Bacamarte fosse capturado e deportado, andou por algumas cabeças, antes que o barbeiro Porfírio a expendesse na loja com grandes gestos de indignação. Note-se — e essa é uma das laudas mais puras desta sombrio história —\n",
      "\n",
      "## Document 3\n",
      "\n",
      "esse grito justamente no dia em que Simão Bacamarte fizera recolher à Casa Verde um homem que trazia com ele uma demanda, o Coelho.\n"
     ]
    }
   ],
   "source": [
    "# Consultando os elementos retornados pela query de similaridade\n",
    "for i, d in enumerate(docs):\n",
    "    print(f\"\\n## Document {i}\\n\")\n",
    "    print(d.page_content)\n"
   ]
  },
  {
   "cell_type": "code",
   "execution_count": 24,
   "id": "08686860-dd14-4cc8-86c4-4101ac652ffd",
   "metadata": {},
   "outputs": [
    {
     "name": "stdout",
     "output_type": "stream",
     "text": [
      "\n",
      "## Document 0\n",
      "\n",
      "Mas nada escapa a um espírito original e penetrante. Simão Bacamarte, que desde algum tempo notava o zelo, a sagacidade, a paciência, a moderação daquele agente, reconheceu a habilidade e o tino com que ele levara a cabo uma experiência tão melindrosa e complicada, e determinou recolhê-lo imediatamente à Casa Verde; deu-lhe todavia um dos melhores cubículos.\n",
      "\n",
      "## Document 1\n",
      "\n",
      "As crônicas da vila de Itaguaí dizem que em tempos remotos vivera ali um certo médico, o Dr. Simão Bacamarte, filho da nobreza da terra e o maior dos médicos do Brasil, de Portugal e das Espanhas. Estudara em Coimbra e Pádua. Aos trinta e quatro anos regressou ao Brasil, não podendo el-rei alcançar dele que ficasse em Coimbra, regendo a universidade, ou em Lisboa, expedindo os negócios da\n",
      "\n",
      "## Document 2\n",
      "\n",
      "Não eram gritos na rua, eram suspiros em casa, mas não tardava a hora dos gritos. O terror crescia; avizinhava-se a rebelião. A idéia de uma petição ao governo, para que Simão Bacamarte fosse capturado e deportado, andou por algumas cabeças, antes que o barbeiro Porfírio a expendesse na loja com grandes gestos de indignação. Note-se — e essa é uma das laudas mais puras desta sombrio história —\n",
      "\n",
      "## Document 3\n",
      "\n",
      "Ao contrário, era de tarde, e o alienista pediu-lhe o braço para irem a passeio. Deus! era a primeira vez que Simão Bacamarte dava o seu privado tamanha honra; Crispim ficou trêmulo, atarantado, disse que sim, que estava pronto. Chegaram duas ou três pessoas de fora, Crispim mandou-as mentalmente a todos os diabos; não só atrasavam o passeio, como podia acontecer que Bacamarte elegesse alguma\n"
     ]
    }
   ],
   "source": [
    "# Alem da busca por similaridade, podemos ainda buscar mais conteúdo similar e, entre este, escolhar os mais diferentes, \n",
    "# aumentando a diversidade e riqueza do conteúdo.\n",
    "# Isto se faz utilizando o MMR (Maximal Marginal Relevance)\n",
    "\n",
    "retriever = docsearch.as_retriever(search_type=\"mmr\")\n",
    "matched_docs = retriever.get_relevant_documents(query)\n",
    "for i, d in enumerate(matched_docs):\n",
    "    print(f\"\\n## Document {i}\\n\")\n",
    "    print(d.page_content)"
   ]
  },
  {
   "cell_type": "code",
   "execution_count": 27,
   "id": "9e70d1f6-09b9-4fcd-a593-89a1ccce569a",
   "metadata": {},
   "outputs": [
    {
     "name": "stderr",
     "output_type": "stream",
     "text": [
      "Retrying langchain.embeddings.openai.embed_with_retry.<locals>._embed_with_retry in 4.0 seconds as it raised Timeout: Request timed out: HTTPSConnectionPool(host='api.openai.com', port=443): Read timed out. (read timeout=600).\n"
     ]
    },
    {
     "name": "stdout",
     "output_type": "stream",
     "text": [
      "1. Mas nada escapa a um espírito original e penetrante. Simão Bacamarte, que desde algum tempo notava o zelo, a sagacidade, a paciência, a moderação daquele agente, reconheceu a habilidade e o tino com que ele levara a cabo uma experiência tão melindrosa e complicada, e determinou recolhê-lo imediatamente à Casa Verde; deu-lhe todavia um dos melhores cubículos. \n",
      "\n",
      "2. As crônicas da vila de Itaguaí dizem que em tempos remotos vivera ali um certo médico, o Dr. Simão Bacamarte, filho da nobreza da terra e o maior dos médicos do Brasil, de Portugal e das Espanhas. Estudara em Coimbra e Pádua. Aos trinta e quatro anos regressou ao Brasil, não podendo el-rei alcançar dele que ficasse em Coimbra, regendo a universidade, ou em Lisboa, expedindo os negócios da \n",
      "\n",
      "3. Não eram gritos na rua, eram suspiros em casa, mas não tardava a hora dos gritos. O terror crescia; avizinhava-se a rebelião. A idéia de uma petição ao governo, para que Simão Bacamarte fosse capturado e deportado, andou por algumas cabeças, antes que o barbeiro Porfírio a expendesse na loja com grandes gestos de indignação. Note-se — e essa é uma das laudas mais puras desta sombrio história — \n",
      "\n",
      "4. Ao contrário, era de tarde, e o alienista pediu-lhe o braço para irem a passeio. Deus! era a primeira vez que Simão Bacamarte dava o seu privado tamanha honra; Crispim ficou trêmulo, atarantado, disse que sim, que estava pronto. Chegaram duas ou três pessoas de fora, Crispim mandou-as mentalmente a todos os diabos; não só atrasavam o passeio, como podia acontecer que Bacamarte elegesse alguma \n",
      "\n"
     ]
    }
   ],
   "source": [
    "# De maneira mais simples, podemos fazer a mesma busca assim:\n",
    "found_docs = docsearch.max_marginal_relevance_search(query, k=4, fetch_k=15)\n",
    "for i, doc in enumerate(found_docs):\n",
    "    print(f\"{i + 1}.\", doc.page_content, \"\\n\")"
   ]
  },
  {
   "cell_type": "code",
   "execution_count": 29,
   "id": "525920cf-3b0e-4090-a7eb-d1c598bbf1dc",
   "metadata": {},
   "outputs": [],
   "source": [
    "# Agora, vamos usar este contexto para enriquecer as respostas\n",
    "\n",
    "from langchain.chat_models import ChatOpenAI\n",
    "from langchain.chains import RetrievalQA\n",
    "\n",
    "llmChat = ChatOpenAI(model=\"gpt-3.5-turbo\", temperature=0.5)\n",
    "retriever = docsearch.as_retriever(search_type=\"mmr\", search_kwargs={'k':3,'fetch_k':10})\n",
    "chain = RetrievalQA.from_chain_type(llm=llmChat, chain_type='stuff', retriever=retriever)"
   ]
  },
  {
   "cell_type": "code",
   "execution_count": 37,
   "id": "c5741589-b918-45d2-a6a8-d703a64d0eb8",
   "metadata": {},
   "outputs": [
    {
     "name": "stdout",
     "output_type": "stream",
     "text": [
      "A Casa Verde era um asilo, cujo nome foi dado devido à cor verde das janelas, que era algo inédito em Itaguaí. Foi inaugurada com grande pompa e atraiu pessoas de várias vilas e cidades próximas, inclusive do Rio de Janeiro. Muitos pacientes já estavam alojados no local. No entanto, um médico sem clínica afirmou que a Casa Verde era um cárcere privado. D. Evarista ficou chocada ao descobrir que Martim Brito, um jovem com ideias bonitas, havia sido alojado lá. As duas senhoras atribuíram essa ação aos ciúmes do alienista.\n"
     ]
    }
   ],
   "source": [
    "chat_query = 'Quem foi simão bacamarti?'\n",
    "answer = chain.run(query=chat_query)\n",
    "print(answer)"
   ]
  },
  {
   "cell_type": "markdown",
   "id": "eab99369-54b7-45da-8dcc-89daf3d95706",
   "metadata": {},
   "source": [
    "# Adicionando memória"
   ]
  },
  {
   "cell_type": "code",
   "execution_count": null,
   "id": "4c01d2e8-eb94-4120-bb06-a88332dd5fe3",
   "metadata": {},
   "outputs": [],
   "source": []
  }
 ],
 "metadata": {
  "kernelspec": {
   "display_name": "Python 3 (ipykernel)",
   "language": "python",
   "name": "python3"
  },
  "language_info": {
   "codemirror_mode": {
    "name": "ipython",
    "version": 3
   },
   "file_extension": ".py",
   "mimetype": "text/x-python",
   "name": "python",
   "nbconvert_exporter": "python",
   "pygments_lexer": "ipython3",
   "version": "3.9.4"
  }
 },
 "nbformat": 4,
 "nbformat_minor": 5
}
