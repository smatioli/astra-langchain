{
 "cells": [
  {
   "cell_type": "markdown",
   "id": "808388bf-38e1-4c98-88c8-bc1614669f80",
   "metadata": {},
   "source": [
    "# Configurando o ambiente\n",
    "\n",
    "Atualmente, o LangChain ainda não contém todos os features disponíveis no CassIO, estas PRs estão sendo adicionadas aos poucos.\n",
    "\n",
    "Instale as dependencias baseadas no arquivo requirements.txt"
   ]
  },
  {
   "cell_type": "code",
   "execution_count": null,
   "id": "3ded13bc-61da-4050-b75d-d514d859a84f",
   "metadata": {},
   "outputs": [],
   "source": [
    "pip install -r requirements.txt"
   ]
  },
  {
   "cell_type": "markdown",
   "id": "f04d0789-e31b-4974-a316-e0edcce567dd",
   "metadata": {},
   "source": [
    "# Defina as variáveis de ambiente\n",
    "\n",
    "Após criar sua conta no DataStax Astra (astra.datastax.com), faça download do Bundle de conexão, e gere um token de acesso.\n",
    "\n",
    "Todo este processo está descrito aqui: https://cassio.org/start_here/#create-the-database\n",
    "\n",
    "Com estas informações abra o arquivo \".env_sample\", preencha as variáveis e salve como \".env\""
   ]
  },
  {
   "cell_type": "code",
   "execution_count": 1,
   "id": "31a0abc9-3431-416a-bf83-ecf461c0cd20",
   "metadata": {},
   "outputs": [
    {
     "data": {
      "text/plain": [
       "True"
      ]
     },
     "execution_count": 1,
     "metadata": {},
     "output_type": "execute_result"
    }
   ],
   "source": [
    "# Carregando variáveis de ambiente\n",
    "from dotenv import load_dotenv, find_dotenv\n",
    "import os\n",
    "load_dotenv(find_dotenv(), override=True)"
   ]
  },
  {
   "cell_type": "markdown",
   "id": "77417729-402d-4eb3-b9c9-af8b66fd03c6",
   "metadata": {},
   "source": [
    "# Conexão com o Astra\n",
    "\n",
    "Este repositório contém o arquivo cqlsession.py que é responsável por criar a conexão com o DataStax Astra.\n",
    "\n",
    "Este arquivo é utilizado assim:"
   ]
  },
  {
   "cell_type": "code",
   "execution_count": 62,
   "id": "332953ab-84db-411d-aaf5-c86be249b54c",
   "metadata": {},
   "outputs": [],
   "source": [
    "# Inicializando a sessão com o Astra/Cassandra\n",
    "# A criação da sessão é realizada pelo arquivo cqlsession.py\n",
    "from cqlsession import getCQLSession, getCQLKeyspace\n",
    "cqlMode = 'astra_db' # 'astra_db'/'local'\n",
    "session = getCQLSession(mode=cqlMode)\n",
    "keyspace = getCQLKeyspace(mode=cqlMode)"
   ]
  },
  {
   "cell_type": "markdown",
   "id": "c1dd94c3-1f13-4a80-bff5-53c5a4baac1a",
   "metadata": {},
   "source": [
    "## Criando dados para personalizar o prompt\n",
    "\n",
    "A ideia é personalizar o prompt com informações gravadas no Cassandra, então vamos criar uma tabela que armazena o idioma e linguagem de programação para um determinado usuário."
   ]
  },
  {
   "cell_type": "code",
   "execution_count": 14,
   "id": "9b559dc7-7da6-4549-9291-6f73b34692e2",
   "metadata": {},
   "outputs": [
    {
     "data": {
      "text/plain": [
       "<cassandra.cluster.ResultSet at 0x1134ed310>"
      ]
     },
     "execution_count": 14,
     "metadata": {},
     "output_type": "execute_result"
    }
   ],
   "source": [
    "# Criação de uma tabela para armazenar os dados personalizados.\n",
    "from cassandra.query import SimpleStatement\n",
    "session.execute(SimpleStatement(\"CREATE TABLE IF NOT EXISTS demo.my_user (user_id TEXT PRIMARY KEY, language TEXT, programming_language TEXT)\"))"
   ]
  },
  {
   "cell_type": "code",
   "execution_count": 16,
   "id": "ce9511c3-761c-43e6-bb1b-94a4ce904df0",
   "metadata": {},
   "outputs": [
    {
     "data": {
      "text/plain": [
       "<cassandra.cluster.ResultSet at 0x1132b9220>"
      ]
     },
     "execution_count": 16,
     "metadata": {},
     "output_type": "execute_result"
    }
   ],
   "source": [
    "# Inserindo dados que serão usados na personalização dos prompts\n",
    "session.execute(\"INSERT INTO demo.my_user (user_id, language, programming_language ) VALUES ('samuel-br','portugues','javascript')\")\n",
    "session.execute(\"INSERT INTO demo.my_user (user_id, language, programming_language ) VALUES ('samuel-en','ingles','python')\")\n",
    "session.execute(\"INSERT INTO demo.my_user (user_id, language, programming_language ) VALUES ('samuel-fr','francês','c++')\")\n",
    "session.execute(\"INSERT INTO demo.my_user (user_id, language, programming_language ) VALUES ('samuel-es','espanhol','java')\")\n"
   ]
  },
  {
   "cell_type": "code",
   "execution_count": 20,
   "id": "a0364c17-d5e3-496e-a125-dfd96eb2e1d6",
   "metadata": {},
   "outputs": [
    {
     "name": "stdout",
     "output_type": "stream",
     "text": [
      "samuel-fr francês c++\n",
      "samuel-br portugues javascript\n",
      "samuel-es espanhol java\n",
      "samuel-en ingles python\n"
     ]
    }
   ],
   "source": [
    "# Consultando o resultado\n",
    "data = session.execute(\"SELECT * FROM demo.my_user\")\n",
    "for row in data:\n",
    "    print (row.user_id, row.language, row.programming_language)"
   ]
  },
  {
   "cell_type": "markdown",
   "id": "6785808f-6361-43ae-96f5-b71611a89a9d",
   "metadata": {},
   "source": [
    "# Criando o primeiro prompt\n",
    "\n",
    "Toda interação com o LLM é feita através de prompts. Estes prompts são ainda mais poderosos quando utilizam dados personalizados.\n",
    "\n",
    "O que faremos neste exemplo é utilizar dados que estão gravados no Astra para personalizar o prompt."
   ]
  },
  {
   "cell_type": "code",
   "execution_count": 27,
   "id": "9b1a2f58-d16b-4030-b048-179a2c533640",
   "metadata": {},
   "outputs": [],
   "source": [
    "# Definição do prompt\n",
    "ctemplate0 = \"\"\"Please answer a question from a user in {user_language}.\n",
    "Keep in mind that the preferred programing language of the user is {user_programming_language}.\n",
    "\n",
    "USER'S QUESTION: {user_question}\n",
    "YOUR ANSWER:\n",
    "\"\"\""
   ]
  },
  {
   "cell_type": "code",
   "execution_count": 22,
   "id": "d37963f4-fa04-477f-bb18-7e344b52022f",
   "metadata": {},
   "outputs": [],
   "source": [
    "from langchain.prompts import createCassandraPromptTemplate"
   ]
  },
  {
   "cell_type": "code",
   "execution_count": 28,
   "id": "75a6b3c2-248f-43a6-a795-751f82a17a49",
   "metadata": {},
   "outputs": [],
   "source": [
    "# Criação do prompt dinâmico\n",
    "# O nome de alguma das variáveis de entrada devem corresponder à chave primaria da tabela. Neste caso, user_id é a PK, então temos que usar esta variável.\n",
    "cassPrompt = createCassandraPromptTemplate(\n",
    "    session=session,\n",
    "    keyspace=keyspace,\n",
    "    template=ctemplate0,\n",
    "    input_variables=['user_id', 'user_question'],\n",
    "    field_mapper={\n",
    "        'user_language': ('my_user', 'language'),\n",
    "        'user_programming_language': ('my_user', 'programming_language'),\n",
    "    },\n",
    ")"
   ]
  },
  {
   "cell_type": "markdown",
   "id": "d0a2d8b8-deb9-4921-b74e-96bbe341d966",
   "metadata": {},
   "source": [
    "Apenas para entendermos o que aconteceu, aqui vemos qual vai ser o prompt gerado dinamicamente"
   ]
  },
  {
   "cell_type": "code",
   "execution_count": 33,
   "id": "67d56ddb-7133-4876-9651-004d280f269a",
   "metadata": {},
   "outputs": [
    {
     "name": "stdout",
     "output_type": "stream",
     "text": [
      "Please answer a question from a user in portugues.\n",
      "Keep in mind that the preferred programing language of the user is javascript.\n",
      "\n",
      "USER'S QUESTION: Which is the function that returns the size of an array?\n",
      "YOUR ANSWER:\n",
      "\n"
     ]
    }
   ],
   "source": [
    "# Consultando o resultado do prompt dinâmico\n",
    "print(cassPrompt.format(user_id='samuel-br', \n",
    "                        user_question='Which is the function that returns the size of an array?'))"
   ]
  },
  {
   "cell_type": "code",
   "execution_count": 34,
   "id": "20b9722c-8d38-475d-8e1a-fb8d7951f31e",
   "metadata": {},
   "outputs": [],
   "source": [
    "# Importando o modelo LLM. Neste caso estamos usando a OpenAI, mas você pode usar qualquer um\n",
    "from langchain.llms import OpenAI\n",
    "llm = OpenAI(model_name=\"text-davinci-003\")"
   ]
  },
  {
   "cell_type": "code",
   "execution_count": 40,
   "id": "2fca89e6-7e9f-43e3-867d-2649efc2bb65",
   "metadata": {},
   "outputs": [
    {
     "name": "stdout",
     "output_type": "stream",
     "text": [
      "A função que retorna o tamanho de um array em JavaScript é o .length. Para usá-lo, você pode acessar o tamanho de um array atribuindo o .length ao array desejado, como no exemplo abaixo: \n",
      "\n",
      "var arr = [\"uma\", \"duas\", \"três\"];\n",
      "var size = arr.length; // retorna 3\n"
     ]
    }
   ],
   "source": [
    "# Resposta em português\n",
    "res = llm(cassPrompt.format(user_id='samuel-br', \n",
    "                        user_question='What is the function that returns the array size? can you explain how to use it?'))\n",
    "print(res)"
   ]
  },
  {
   "cell_type": "code",
   "execution_count": 39,
   "id": "6c549407-0082-4f9b-8e06-cbd86aef4e37",
   "metadata": {},
   "outputs": [
    {
     "name": "stdout",
     "output_type": "stream",
     "text": [
      "Para crear una clase en Java, primero debe definir sus atributos y métodos. Por ejemplo, aquí hay una clase sencilla para una persona que contiene los atributos de nombre y edad: \n",
      "public class Persona {\n",
      "  String nombre;\n",
      "  int edad;\n",
      "}\n"
     ]
    }
   ],
   "source": [
    "res = llm(cassPrompt.format(user_id='samuel-es', \n",
    "                        user_question='How can I create a class? Can you give me an example?'))\n",
    "print(res)"
   ]
  },
  {
   "cell_type": "code",
   "execution_count": 41,
   "id": "5f835956-e938-4b68-ac15-05882ee1f3a9",
   "metadata": {},
   "outputs": [
    {
     "name": "stdout",
     "output_type": "stream",
     "text": [
      "Voici un exemple pour créer un vecteur en C++ : \n",
      "std::vector<int> monVecteur; // créer un vecteur vide \n",
      "monVecteur.push_back(10); // ajouter 10 à la fin du vecteur \n",
      "monVecteur.push_back(20); // ajouter 20 à la fin du vecteur\n"
     ]
    }
   ],
   "source": [
    "res =llm(cassPrompt.format(user_id='samuel-fr', \n",
    "                        user_question='Can you give me an example of how to create a vector?'))\n",
    "print(res)"
   ]
  },
  {
   "cell_type": "markdown",
   "id": "63881985-fdac-444f-8da2-88d21796f9b1",
   "metadata": {},
   "source": [
    "# System Message\n",
    "\n",
    "O jeito mais correto de informar no prompt o comportamento do modelo usando uma System Message.\n",
    "\n",
    "Por isso, faremos a mesma personalização, só que desta vez na mensagem do sistema."
   ]
  },
  {
   "cell_type": "code",
   "execution_count": 53,
   "id": "59096786-0d60-4826-bd7e-ea2880b8272f",
   "metadata": {},
   "outputs": [],
   "source": [
    "# Definição do template\n",
    "systemTemplate = \"\"\"Please answer a question from a user in {user_language}.\n",
    "Keep in mind that the preferred programing language of the user is {user_programming_language}.\n",
    "\"\"\""
   ]
  },
  {
   "cell_type": "code",
   "execution_count": 54,
   "id": "b89dfefc-34b2-40e3-8363-02a43359fe66",
   "metadata": {},
   "outputs": [],
   "source": [
    "# Buscando os valores da tabela\n",
    "cassSystemPrompt = createCassandraPromptTemplate(\n",
    "    session=session,\n",
    "    keyspace=keyspace,\n",
    "    template=systemTemplate,\n",
    "    input_variables=['user_id', 'user_question'],\n",
    "    field_mapper={\n",
    "        'user_language': ('my_user', 'language'),\n",
    "        'user_programming_language': ('my_user', 'programming_language'),\n",
    "    },\n",
    ")"
   ]
  },
  {
   "cell_type": "code",
   "execution_count": 55,
   "id": "d7bb1376-7b7d-4e42-b147-8d66b061c7d6",
   "metadata": {},
   "outputs": [],
   "source": [
    "# Criação da mensagem de sistema\n",
    "from langchain.prompts import (\n",
    "    ChatPromptTemplate,\n",
    "    SystemMessagePromptTemplate,\n",
    "    HumanMessagePromptTemplate,\n",
    ")\n",
    "systemMessagePrompt = SystemMessagePromptTemplate(prompt=cassSystemPrompt)"
   ]
  },
  {
   "cell_type": "code",
   "execution_count": 56,
   "id": "8e427765-4a5a-4413-8f2d-3d924e57bb7d",
   "metadata": {},
   "outputs": [],
   "source": [
    "# Criação da mensagem humana, que agora só possui o texto enviado pelo usuário\n",
    "\n",
    "humanTemplate = \"{text}\"\n",
    "humanMessagePrompt = HumanMessagePromptTemplate.from_template(humanTemplate)\n"
   ]
  },
  {
   "cell_type": "code",
   "execution_count": 57,
   "id": "b9a3cfba-e97f-46da-9f4b-3b349b43cf5a",
   "metadata": {},
   "outputs": [],
   "source": [
    "# Criação do prompt completo\n",
    "cassChatPrompt = ChatPromptTemplate.from_messages(\n",
    "    [systemMessagePrompt, humanMessagePrompt]\n",
    ")"
   ]
  },
  {
   "cell_type": "code",
   "execution_count": 58,
   "id": "0738bab1-6b41-4a9a-a689-a9c171e005ef",
   "metadata": {},
   "outputs": [
    {
     "name": "stdout",
     "output_type": "stream",
     "text": [
      "System: Please answer a question from a user in portugues.\n",
      "Keep in mind that the preferred programing language of the user is javascript.\n",
      "\n",
      "Human: What is the function that returns the array size? can you explain how to use it?\n"
     ]
    }
   ],
   "source": [
    "# Exibindo o prompt gerado utilizando as variáveis e enriquecido com dados da tabela\n",
    "print(cassChatPrompt.format_prompt(\n",
    "    user_id='samuel-br', \n",
    "    text='What is the function that returns the array size? can you explain how to use it?'\n",
    ").to_string())"
   ]
  },
  {
   "cell_type": "code",
   "execution_count": 60,
   "id": "eb98b56d-485f-46f9-ba92-191bd783c7f1",
   "metadata": {},
   "outputs": [],
   "source": [
    "# Criação da chamada de chat da OpenAI, especificando o modelo\n",
    "from langchain.chat_models import ChatOpenAI\n",
    "chat = ChatOpenAI(model_name=\"gpt-3.5-turbo\", temperature=0.3)"
   ]
  },
  {
   "cell_type": "code",
   "execution_count": 61,
   "id": "310494b8-2645-411d-9d81-cdb2779f5fc0",
   "metadata": {},
   "outputs": [
    {
     "name": "stdout",
     "output_type": "stream",
     "text": [
      "\n",
      "\n",
      "System: A função que retorna o tamanho de um array é o .length. Para usá-lo, basta inserir o nome do array seguido de um ponto e o nome da função: array.length. Por exemplo, se você tiver um array chamado \"meuArray\", a função para determinar o seu tamanho seria meuArray.length.\n"
     ]
    }
   ],
   "source": [
    "# Execução do modelo, passando as variaveis e a questão do usuário\n",
    "res = llm(cassChatPrompt.format_prompt(\n",
    "    user_id='samuel-br', \n",
    "    text='What is the function that returns the array size? can you explain how to use it?'\n",
    ").to_string())\n",
    "print(res, end=\"\\n\")"
   ]
  },
  {
   "cell_type": "code",
   "execution_count": null,
   "id": "c316526f-dbcc-4d55-9c59-69e84f5dcaa5",
   "metadata": {},
   "outputs": [],
   "source": []
  }
 ],
 "metadata": {
  "kernelspec": {
   "display_name": "Python 3 (ipykernel)",
   "language": "python",
   "name": "python3"
  },
  "language_info": {
   "codemirror_mode": {
    "name": "ipython",
    "version": 3
   },
   "file_extension": ".py",
   "mimetype": "text/x-python",
   "name": "python",
   "nbconvert_exporter": "python",
   "pygments_lexer": "ipython3",
   "version": "3.9.4"
  }
 },
 "nbformat": 4,
 "nbformat_minor": 5
}
